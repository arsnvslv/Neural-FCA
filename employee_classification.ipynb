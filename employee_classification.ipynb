{
 "cells": [
  {
   "cell_type": "code",
   "execution_count": 2,
   "id": "1b0f10a9",
   "metadata": {},
   "outputs": [],
   "source": [
    "import numpy as np \n",
    "import pandas as pd "
   ]
  },
  {
   "cell_type": "markdown",
   "id": "ebf07ab5",
   "metadata": {},
   "source": [
    "# Data loading and preparing "
   ]
  },
  {
   "cell_type": "code",
   "execution_count": 3,
   "id": "94c69e71",
   "metadata": {},
   "outputs": [],
   "source": [
    "data = pd.read_csv('employee-dataset/Employee.csv')"
   ]
  },
  {
   "cell_type": "code",
   "execution_count": 4,
   "id": "7d176760",
   "metadata": {},
   "outputs": [
    {
     "name": "stdout",
     "output_type": "stream",
     "text": [
      "<class 'pandas.core.frame.DataFrame'>\n",
      "RangeIndex: 4653 entries, 0 to 4652\n",
      "Data columns (total 9 columns):\n",
      " #   Column                     Non-Null Count  Dtype \n",
      "---  ------                     --------------  ----- \n",
      " 0   Education                  4653 non-null   object\n",
      " 1   JoiningYear                4653 non-null   int64 \n",
      " 2   City                       4653 non-null   object\n",
      " 3   PaymentTier                4653 non-null   int64 \n",
      " 4   Age                        4653 non-null   int64 \n",
      " 5   Gender                     4653 non-null   object\n",
      " 6   EverBenched                4653 non-null   object\n",
      " 7   ExperienceInCurrentDomain  4653 non-null   int64 \n",
      " 8   LeaveOrNot                 4653 non-null   int64 \n",
      "dtypes: int64(5), object(4)\n",
      "memory usage: 327.3+ KB\n"
     ]
    }
   ],
   "source": [
    "data.info()"
   ]
  },
  {
   "cell_type": "code",
   "execution_count": 5,
   "id": "ec898426",
   "metadata": {},
   "outputs": [],
   "source": [
    "data['PaymentTier'] = data['PaymentTier'].astype(str)\n",
    "data['Gender'] = (data['Gender']=='Male').astype(int)\n",
    "data['EverBenched'] = (data['EverBenched']=='Yes').astype(int)"
   ]
  },
  {
   "cell_type": "markdown",
   "id": "1be372b2",
   "metadata": {},
   "source": [
    "# ML "
   ]
  },
  {
   "cell_type": "code",
   "execution_count": 40,
   "id": "072329d2",
   "metadata": {},
   "outputs": [],
   "source": [
    "from sklearn.metrics import f1_score, accuracy_score\n",
    "from sklearn.model_selection import train_test_split\n",
    "from sklearn.preprocessing import OneHotEncoder\n",
    "from sklearn.compose import ColumnTransformer\n",
    "from sklearn.pipeline import make_pipeline,Pipeline"
   ]
  },
  {
   "cell_type": "code",
   "execution_count": 41,
   "id": "4403fb35",
   "metadata": {},
   "outputs": [],
   "source": [
    "X,y = data.drop(['LeaveOrNot'],axis=1), data['LeaveOrNot']\n",
    "X_train, X_test, y_train, y_test = train_test_split(X, y, test_size=0.33,shuffle=True,random_state=100)"
   ]
  },
  {
   "cell_type": "code",
   "execution_count": 42,
   "id": "311f195a",
   "metadata": {},
   "outputs": [],
   "source": [
    "from sklearn.compose import ColumnTransformer\n",
    "\n",
    "cat_features = list(X_train.select_dtypes(object).columns)\n",
    "ct = ColumnTransformer([('encode_cats', OneHotEncoder(drop='first'), cat_features)],\n",
    "                       remainder='passthrough')"
   ]
  },
  {
   "cell_type": "markdown",
   "id": "b56ed0aa",
   "metadata": {},
   "source": [
    "## Naive Bayes"
   ]
  },
  {
   "cell_type": "code",
   "execution_count": 43,
   "id": "59d7dc2f",
   "metadata": {},
   "outputs": [
    {
     "name": "stdout",
     "output_type": "stream",
     "text": [
      "Score: 0.537917087967644\n"
     ]
    }
   ],
   "source": [
    "from sklearn.naive_bayes import GaussianNB\n",
    "\n",
    "\n",
    "model = Pipeline([\n",
    "    ('ct',ct),   \n",
    "    ('rf', GaussianNB())\n",
    "])\n",
    "\n",
    "model.fit(X_train, y_train)\n",
    "y_pred = model.predict(X_test)\n",
    "\n",
    "print(f'Score: {f1_score(y_test, y_pred)}')"
   ]
  },
  {
   "cell_type": "markdown",
   "id": "95c915ef",
   "metadata": {},
   "source": [
    "## Logistic Regression"
   ]
  },
  {
   "cell_type": "code",
   "execution_count": 44,
   "id": "02808fac",
   "metadata": {},
   "outputs": [
    {
     "name": "stdout",
     "output_type": "stream",
     "text": [
      "Score: 0.51338199513382\n"
     ]
    }
   ],
   "source": [
    "from sklearn.linear_model import LogisticRegression\n",
    "model = Pipeline([\n",
    "    ('ct',ct),   \n",
    "    ('rf', LogisticRegression(fit_intercept=False))\n",
    "])\n",
    "\n",
    "model.fit(X_train, y_train)\n",
    "y_pred_l = model.predict(X_test)\n",
    "\n",
    "print(f'Score: {f1_score(y_test, y_pred_l)}')"
   ]
  },
  {
   "cell_type": "markdown",
   "id": "db0de2cd",
   "metadata": {},
   "source": [
    "## Random Forest "
   ]
  },
  {
   "cell_type": "markdown",
   "id": "7f21f064",
   "metadata": {},
   "source": [
    "### Base model "
   ]
  },
  {
   "cell_type": "code",
   "execution_count": 45,
   "id": "b5498774",
   "metadata": {},
   "outputs": [
    {
     "name": "stdout",
     "output_type": "stream",
     "text": [
      "Score: 0.7410358565737052\n"
     ]
    }
   ],
   "source": [
    "from sklearn.ensemble import RandomForestClassifier\n",
    "\n",
    "model = Pipeline([\n",
    "    ('ct',ct),   \n",
    "    ('rf', RandomForestClassifier())\n",
    "])\n",
    "\n",
    "\n",
    "model.fit(X_train, y_train)\n",
    "y_pred = model.predict(X_test)\n",
    "print(f'Score: {f1_score(y_test, y_pred)}')"
   ]
  },
  {
   "cell_type": "markdown",
   "id": "ae0e88ad",
   "metadata": {},
   "source": [
    "### Tuning parameters "
   ]
  },
  {
   "cell_type": "code",
   "execution_count": 46,
   "id": "8f118a08",
   "metadata": {},
   "outputs": [],
   "source": [
    "import optuna\n",
    "from optuna.visualization import plot_optimization_history\n",
    "from sklearn.model_selection import cross_val_score"
   ]
  },
  {
   "cell_type": "code",
   "execution_count": 47,
   "id": "2dd716dc",
   "metadata": {},
   "outputs": [],
   "source": [
    "model = Pipeline([\n",
    "    ('ct',ct),   \n",
    "    ('rf', RandomForestClassifier())\n",
    "])\n",
    "\n",
    "def objective(trial):\n",
    "    params = {\n",
    "        'rf__criterion' : trial.suggest_categorical('rf__criterion',[\"gini\", \"entropy\", \"log_loss\"]),\n",
    "        'rf__n_estimators': trial.suggest_int('rf__n_estimators', 50, 1000),\n",
    "        'rf__max_depth': trial.suggest_int('rf__max_depth', 4, 50),\n",
    "        'rf__min_samples_split': trial.suggest_int('rf__min_samples_split', 2, 150),\n",
    "        'rf__min_samples_leaf':trial.suggest_int('rf__min_samples_leaf', 1, 60)\n",
    "    }\n",
    "    model.set_params(**params)\n",
    "\n",
    "    return  np.mean(cross_val_score(model, X_train, y_train, cv=3, n_jobs=-1,scoring='f1'))"
   ]
  },
  {
   "cell_type": "code",
   "execution_count": 48,
   "id": "cbcde4d4",
   "metadata": {},
   "outputs": [
    {
     "name": "stderr",
     "output_type": "stream",
     "text": [
      "[I 2023-12-04 16:16:48,471] A new study created in memory with name: no-name-1052845e-8522-4b53-a8d3-3846c675fa08\n",
      "[I 2023-12-04 16:16:55,185] Trial 0 finished with value: 0.6409899654344099 and parameters: {'rf__criterion': 'gini', 'rf__n_estimators': 740, 'rf__max_depth': 7, 'rf__min_samples_split': 114, 'rf__min_samples_leaf': 34}. Best is trial 0 with value: 0.6409899654344099.\n",
      "[I 2023-12-04 16:16:58,179] Trial 1 finished with value: 0.6786143279714297 and parameters: {'rf__criterion': 'gini', 'rf__n_estimators': 724, 'rf__max_depth': 20, 'rf__min_samples_split': 27, 'rf__min_samples_leaf': 29}. Best is trial 1 with value: 0.6786143279714297.\n",
      "[I 2023-12-04 16:17:00,066] Trial 2 finished with value: 0.7039057039316597 and parameters: {'rf__criterion': 'gini', 'rf__n_estimators': 278, 'rf__max_depth': 35, 'rf__min_samples_split': 103, 'rf__min_samples_leaf': 2}. Best is trial 2 with value: 0.7039057039316597.\n",
      "[I 2023-12-04 16:17:01,736] Trial 3 finished with value: 0.6410158467807778 and parameters: {'rf__criterion': 'gini', 'rf__n_estimators': 199, 'rf__max_depth': 41, 'rf__min_samples_split': 3, 'rf__min_samples_leaf': 48}. Best is trial 2 with value: 0.7039057039316597.\n",
      "[I 2023-12-04 16:17:04,032] Trial 4 finished with value: 0.6484560629383904 and parameters: {'rf__criterion': 'log_loss', 'rf__n_estimators': 437, 'rf__max_depth': 21, 'rf__min_samples_split': 101, 'rf__min_samples_leaf': 30}. Best is trial 2 with value: 0.7039057039316597.\n",
      "[I 2023-12-04 16:17:05,337] Trial 5 finished with value: 0.719580193652308 and parameters: {'rf__criterion': 'gini', 'rf__n_estimators': 488, 'rf__max_depth': 35, 'rf__min_samples_split': 24, 'rf__min_samples_leaf': 12}. Best is trial 5 with value: 0.719580193652308.\n",
      "[I 2023-12-04 16:17:07,647] Trial 6 finished with value: 0.635953132157383 and parameters: {'rf__criterion': 'gini', 'rf__n_estimators': 979, 'rf__max_depth': 26, 'rf__min_samples_split': 135, 'rf__min_samples_leaf': 47}. Best is trial 5 with value: 0.719580193652308.\n",
      "[I 2023-12-04 16:17:08,244] Trial 7 finished with value: 0.7070616789721534 and parameters: {'rf__criterion': 'log_loss', 'rf__n_estimators': 206, 'rf__max_depth': 12, 'rf__min_samples_split': 77, 'rf__min_samples_leaf': 11}. Best is trial 5 with value: 0.719580193652308.\n",
      "[I 2023-12-04 16:17:08,861] Trial 8 finished with value: 0.6943799456714882 and parameters: {'rf__criterion': 'entropy', 'rf__n_estimators': 232, 'rf__max_depth': 28, 'rf__min_samples_split': 8, 'rf__min_samples_leaf': 23}. Best is trial 5 with value: 0.719580193652308.\n",
      "[I 2023-12-04 16:17:11,060] Trial 9 finished with value: 0.6421127612064249 and parameters: {'rf__criterion': 'log_loss', 'rf__n_estimators': 901, 'rf__max_depth': 46, 'rf__min_samples_split': 43, 'rf__min_samples_leaf': 47}. Best is trial 5 with value: 0.719580193652308.\n",
      "[I 2023-12-04 16:17:12,261] Trial 10 finished with value: 0.7019309388095486 and parameters: {'rf__criterion': 'entropy', 'rf__n_estimators': 463, 'rf__max_depth': 35, 'rf__min_samples_split': 55, 'rf__min_samples_leaf': 15}. Best is trial 5 with value: 0.719580193652308.\n",
      "[I 2023-12-04 16:17:13,769] Trial 11 finished with value: 0.6747731407542892 and parameters: {'rf__criterion': 'log_loss', 'rf__n_estimators': 89, 'rf__max_depth': 6, 'rf__min_samples_split': 72, 'rf__min_samples_leaf': 6}. Best is trial 5 with value: 0.719580193652308.\n",
      "[I 2023-12-04 16:17:15,360] Trial 12 finished with value: 0.7052926751956264 and parameters: {'rf__criterion': 'log_loss', 'rf__n_estimators': 556, 'rf__max_depth': 14, 'rf__min_samples_split': 72, 'rf__min_samples_leaf': 14}. Best is trial 5 with value: 0.719580193652308.\n",
      "[I 2023-12-04 16:17:16,339] Trial 13 finished with value: 0.7074021596132622 and parameters: {'rf__criterion': 'log_loss', 'rf__n_estimators': 369, 'rf__max_depth': 15, 'rf__min_samples_split': 41, 'rf__min_samples_leaf': 14}. Best is trial 5 with value: 0.719580193652308.\n",
      "[I 2023-12-04 16:17:17,823] Trial 14 finished with value: 0.6976744178606132 and parameters: {'rf__criterion': 'entropy', 'rf__n_estimators': 564, 'rf__max_depth': 49, 'rf__min_samples_split': 28, 'rf__min_samples_leaf': 20}. Best is trial 5 with value: 0.719580193652308.\n",
      "[I 2023-12-04 16:17:18,782] Trial 15 finished with value: 0.6348077799764763 and parameters: {'rf__criterion': 'gini', 'rf__n_estimators': 371, 'rf__max_depth': 31, 'rf__min_samples_split': 33, 'rf__min_samples_leaf': 60}. Best is trial 5 with value: 0.719580193652308.\n",
      "[I 2023-12-04 16:17:20,632] Trial 16 finished with value: 0.7332273022203232 and parameters: {'rf__criterion': 'log_loss', 'rf__n_estimators': 677, 'rf__max_depth': 19, 'rf__min_samples_split': 50, 'rf__min_samples_leaf': 1}. Best is trial 16 with value: 0.7332273022203232.\n",
      "[I 2023-12-04 16:17:22,478] Trial 17 finished with value: 0.7272077388766753 and parameters: {'rf__criterion': 'log_loss', 'rf__n_estimators': 694, 'rf__max_depth': 39, 'rf__min_samples_split': 56, 'rf__min_samples_leaf': 2}. Best is trial 16 with value: 0.7332273022203232.\n",
      "[I 2023-12-04 16:17:24,365] Trial 18 finished with value: 0.7253271930241024 and parameters: {'rf__criterion': 'log_loss', 'rf__n_estimators': 705, 'rf__max_depth': 42, 'rf__min_samples_split': 58, 'rf__min_samples_leaf': 1}. Best is trial 16 with value: 0.7332273022203232.\n",
      "[I 2023-12-04 16:17:26,431] Trial 19 finished with value: 0.6400885907797765 and parameters: {'rf__criterion': 'log_loss', 'rf__n_estimators': 834, 'rf__max_depth': 22, 'rf__min_samples_split': 90, 'rf__min_samples_leaf': 38}. Best is trial 16 with value: 0.7332273022203232.\n",
      "[I 2023-12-04 16:17:28,021] Trial 20 finished with value: 0.6969765395281571 and parameters: {'rf__criterion': 'log_loss', 'rf__n_estimators': 629, 'rf__max_depth': 42, 'rf__min_samples_split': 61, 'rf__min_samples_leaf': 21}. Best is trial 16 with value: 0.7332273022203232.\n",
      "[I 2023-12-04 16:17:29,862] Trial 21 finished with value: 0.7328443228572915 and parameters: {'rf__criterion': 'log_loss', 'rf__n_estimators': 686, 'rf__max_depth': 41, 'rf__min_samples_split': 52, 'rf__min_samples_leaf': 1}. Best is trial 16 with value: 0.7332273022203232.\n",
      "[I 2023-12-04 16:17:32,015] Trial 22 finished with value: 0.7232888550828772 and parameters: {'rf__criterion': 'log_loss', 'rf__n_estimators': 818, 'rf__max_depth': 37, 'rf__min_samples_split': 52, 'rf__min_samples_leaf': 5}. Best is trial 16 with value: 0.7332273022203232.\n",
      "[I 2023-12-04 16:17:33,699] Trial 23 finished with value: 0.7061107288188869 and parameters: {'rf__criterion': 'log_loss', 'rf__n_estimators': 644, 'rf__max_depth': 49, 'rf__min_samples_split': 79, 'rf__min_samples_leaf': 8}. Best is trial 16 with value: 0.7332273022203232.\n",
      "[I 2023-12-04 16:17:35,880] Trial 24 finished with value: 0.7346643927294733 and parameters: {'rf__criterion': 'log_loss', 'rf__n_estimators': 810, 'rf__max_depth': 30, 'rf__min_samples_split': 43, 'rf__min_samples_leaf': 2}. Best is trial 24 with value: 0.7346643927294733.\n",
      "[I 2023-12-04 16:17:38,040] Trial 25 finished with value: 0.7206214760562588 and parameters: {'rf__criterion': 'log_loss', 'rf__n_estimators': 801, 'rf__max_depth': 31, 'rf__min_samples_split': 45, 'rf__min_samples_leaf': 7}. Best is trial 24 with value: 0.7346643927294733.\n",
      "[I 2023-12-04 16:17:41,918] Trial 26 finished with value: 0.7072736386125378 and parameters: {'rf__criterion': 'entropy', 'rf__n_estimators': 928, 'rf__max_depth': 26, 'rf__min_samples_split': 16, 'rf__min_samples_leaf': 18}. Best is trial 24 with value: 0.7346643927294733.\n",
      "[I 2023-12-04 16:17:43,464] Trial 27 finished with value: 0.6891848378777269 and parameters: {'rf__criterion': 'log_loss', 'rf__n_estimators': 614, 'rf__max_depth': 17, 'rf__min_samples_split': 150, 'rf__min_samples_leaf': 1}. Best is trial 24 with value: 0.7346643927294733.\n",
      "[I 2023-12-04 16:17:45,732] Trial 28 finished with value: 0.7058153115319202 and parameters: {'rf__criterion': 'log_loss', 'rf__n_estimators': 877, 'rf__max_depth': 10, 'rf__min_samples_split': 63, 'rf__min_samples_leaf': 10}. Best is trial 24 with value: 0.7346643927294733.\n",
      "[I 2023-12-04 16:17:47,660] Trial 29 finished with value: 0.6437848968936013 and parameters: {'rf__criterion': 'log_loss', 'rf__n_estimators': 783, 'rf__max_depth': 31, 'rf__min_samples_split': 38, 'rf__min_samples_leaf': 36}. Best is trial 24 with value: 0.7346643927294733.\n"
     ]
    },
    {
     "name": "stderr",
     "output_type": "stream",
     "text": [
      "[I 2023-12-04 16:17:49,584] Trial 30 finished with value: 0.6817172445524203 and parameters: {'rf__criterion': 'entropy', 'rf__n_estimators': 761, 'rf__max_depth': 23, 'rf__min_samples_split': 13, 'rf__min_samples_leaf': 25}. Best is trial 24 with value: 0.7346643927294733.\n",
      "[I 2023-12-04 16:17:51,344] Trial 31 finished with value: 0.7308563652505494 and parameters: {'rf__criterion': 'log_loss', 'rf__n_estimators': 669, 'rf__max_depth': 38, 'rf__min_samples_split': 49, 'rf__min_samples_leaf': 4}. Best is trial 24 with value: 0.7346643927294733.\n",
      "[I 2023-12-04 16:17:53,154] Trial 32 finished with value: 0.7262450497546018 and parameters: {'rf__criterion': 'log_loss', 'rf__n_estimators': 665, 'rf__max_depth': 46, 'rf__min_samples_split': 48, 'rf__min_samples_leaf': 5}. Best is trial 24 with value: 0.7346643927294733.\n",
      "[I 2023-12-04 16:17:55,224] Trial 33 finished with value: 0.7365267062433404 and parameters: {'rf__criterion': 'log_loss', 'rf__n_estimators': 748, 'rf__max_depth': 33, 'rf__min_samples_split': 34, 'rf__min_samples_leaf': 4}. Best is trial 33 with value: 0.7365267062433404.\n",
      "[I 2023-12-04 16:17:57,207] Trial 34 finished with value: 0.7275848967968122 and parameters: {'rf__criterion': 'log_loss', 'rf__n_estimators': 742, 'rf__max_depth': 29, 'rf__min_samples_split': 21, 'rf__min_samples_leaf': 9}. Best is trial 33 with value: 0.7365267062433404.\n",
      "[I 2023-12-04 16:17:59,612] Trial 35 finished with value: 0.7413080448515862 and parameters: {'rf__criterion': 'log_loss', 'rf__n_estimators': 861, 'rf__max_depth': 19, 'rf__min_samples_split': 31, 'rf__min_samples_leaf': 1}. Best is trial 35 with value: 0.7413080448515862.\n",
      "[I 2023-12-04 16:18:02,116] Trial 36 finished with value: 0.7080489757869471 and parameters: {'rf__criterion': 'gini', 'rf__n_estimators': 976, 'rf__max_depth': 19, 'rf__min_samples_split': 35, 'rf__min_samples_leaf': 16}. Best is trial 35 with value: 0.7413080448515862.\n",
      "[I 2023-12-04 16:18:04,438] Trial 37 finished with value: 0.7365014895209061 and parameters: {'rf__criterion': 'log_loss', 'rf__n_estimators': 857, 'rf__max_depth': 24, 'rf__min_samples_split': 27, 'rf__min_samples_leaf': 5}. Best is trial 35 with value: 0.7413080448515862.\n",
      "[I 2023-12-04 16:18:06,589] Trial 38 finished with value: 0.6756550978558393 and parameters: {'rf__criterion': 'log_loss', 'rf__n_estimators': 861, 'rf__max_depth': 24, 'rf__min_samples_split': 27, 'rf__min_samples_leaf': 27}. Best is trial 35 with value: 0.7413080448515862.\n",
      "[I 2023-12-04 16:18:09,035] Trial 39 finished with value: 0.7204352411547807 and parameters: {'rf__criterion': 'gini', 'rf__n_estimators': 929, 'rf__max_depth': 33, 'rf__min_samples_split': 3, 'rf__min_samples_leaf': 11}. Best is trial 35 with value: 0.7413080448515862.\n",
      "[I 2023-12-04 16:18:11,519] Trial 40 finished with value: 0.6476838515736955 and parameters: {'rf__criterion': 'log_loss', 'rf__n_estimators': 995, 'rf__max_depth': 24, 'rf__min_samples_split': 20, 'rf__min_samples_leaf': 33}. Best is trial 35 with value: 0.7413080448515862.\n",
      "[I 2023-12-04 16:18:13,696] Trial 41 finished with value: 0.7362247159752506 and parameters: {'rf__criterion': 'log_loss', 'rf__n_estimators': 754, 'rf__max_depth': 19, 'rf__min_samples_split': 32, 'rf__min_samples_leaf': 4}. Best is trial 35 with value: 0.7413080448515862.\n",
      "[I 2023-12-04 16:18:15,928] Trial 42 finished with value: 0.7267304073425681 and parameters: {'rf__criterion': 'log_loss', 'rf__n_estimators': 839, 'rf__max_depth': 17, 'rf__min_samples_split': 32, 'rf__min_samples_leaf': 8}. Best is trial 35 with value: 0.7413080448515862.\n",
      "[I 2023-12-04 16:18:18,079] Trial 43 finished with value: 0.739365078771157 and parameters: {'rf__criterion': 'log_loss', 'rf__n_estimators': 741, 'rf__max_depth': 26, 'rf__min_samples_split': 10, 'rf__min_samples_leaf': 5}. Best is trial 35 with value: 0.7413080448515862.\n",
      "[I 2023-12-04 16:18:20,206] Trial 44 finished with value: 0.7407304562459022 and parameters: {'rf__criterion': 'log_loss', 'rf__n_estimators': 748, 'rf__max_depth': 21, 'rf__min_samples_split': 10, 'rf__min_samples_leaf': 5}. Best is trial 35 with value: 0.7413080448515862.\n",
      "[I 2023-12-04 16:18:22,602] Trial 45 finished with value: 0.7160781249702276 and parameters: {'rf__criterion': 'log_loss', 'rf__n_estimators': 906, 'rf__max_depth': 26, 'rf__min_samples_split': 10, 'rf__min_samples_leaf': 11}. Best is trial 35 with value: 0.7413080448515862.\n",
      "[I 2023-12-04 16:18:24,306] Trial 46 finished with value: 0.6435497667897682 and parameters: {'rf__criterion': 'entropy', 'rf__n_estimators': 731, 'rf__max_depth': 4, 'rf__min_samples_split': 18, 'rf__min_samples_leaf': 13}. Best is trial 35 with value: 0.7413080448515862.\n",
      "[I 2023-12-04 16:18:25,736] Trial 47 finished with value: 0.6400978700454099 and parameters: {'rf__criterion': 'gini', 'rf__n_estimators': 591, 'rf__max_depth': 21, 'rf__min_samples_split': 3, 'rf__min_samples_leaf': 41}. Best is trial 35 with value: 0.7413080448515862.\n",
      "[I 2023-12-04 16:18:28,070] Trial 48 finished with value: 0.6756132580926368 and parameters: {'rf__criterion': 'log_loss', 'rf__n_estimators': 952, 'rf__max_depth': 27, 'rf__min_samples_split': 121, 'rf__min_samples_leaf': 17}. Best is trial 35 with value: 0.7413080448515862.\n",
      "[I 2023-12-04 16:18:30,446] Trial 49 finished with value: 0.737707313880415 and parameters: {'rf__criterion': 'log_loss', 'rf__n_estimators': 888, 'rf__max_depth': 11, 'rf__min_samples_split': 9, 'rf__min_samples_leaf': 6}. Best is trial 35 with value: 0.7413080448515862.\n",
      "[I 2023-12-04 16:18:31,876] Trial 50 finished with value: 0.7325683739377159 and parameters: {'rf__criterion': 'log_loss', 'rf__n_estimators': 505, 'rf__max_depth': 16, 'rf__min_samples_split': 8, 'rf__min_samples_leaf': 7}. Best is trial 35 with value: 0.7413080448515862.\n",
      "[I 2023-12-04 16:18:34,213] Trial 51 finished with value: 0.7376052422802881 and parameters: {'rf__criterion': 'log_loss', 'rf__n_estimators': 875, 'rf__max_depth': 12, 'rf__min_samples_split': 25, 'rf__min_samples_leaf': 4}. Best is trial 35 with value: 0.7413080448515862.\n",
      "[I 2023-12-04 16:18:36,326] Trial 52 finished with value: 0.7421933955541814 and parameters: {'rf__criterion': 'log_loss', 'rf__n_estimators': 781, 'rf__max_depth': 10, 'rf__min_samples_split': 12, 'rf__min_samples_leaf': 4}. Best is trial 52 with value: 0.7421933955541814.\n",
      "[I 2023-12-04 16:18:38,462] Trial 53 finished with value: 0.6334761328973557 and parameters: {'rf__criterion': 'log_loss', 'rf__n_estimators': 898, 'rf__max_depth': 10, 'rf__min_samples_split': 11, 'rf__min_samples_leaf': 60}. Best is trial 52 with value: 0.7421933955541814.\n",
      "[I 2023-12-04 16:18:40,598] Trial 54 finished with value: 0.7283094909531779 and parameters: {'rf__criterion': 'log_loss', 'rf__n_estimators': 795, 'rf__max_depth': 13, 'rf__min_samples_split': 15, 'rf__min_samples_leaf': 9}. Best is trial 52 with value: 0.7421933955541814.\n",
      "[I 2023-12-04 16:18:43,064] Trial 55 finished with value: 0.7424400827170242 and parameters: {'rf__criterion': 'log_loss', 'rf__n_estimators': 880, 'rf__max_depth': 10, 'rf__min_samples_split': 2, 'rf__min_samples_leaf': 3}. Best is trial 55 with value: 0.7424400827170242.\n",
      "[I 2023-12-04 16:18:43,278] Trial 56 finished with value: 0.7323570152346294 and parameters: {'rf__criterion': 'entropy', 'rf__n_estimators': 60, 'rf__max_depth': 9, 'rf__min_samples_split': 3, 'rf__min_samples_leaf': 7}. Best is trial 55 with value: 0.7424400827170242.\n",
      "[I 2023-12-04 16:18:45,591] Trial 57 finished with value: 0.6334832639391341 and parameters: {'rf__criterion': 'log_loss', 'rf__n_estimators': 957, 'rf__max_depth': 10, 'rf__min_samples_split': 7, 'rf__min_samples_leaf': 53}. Best is trial 55 with value: 0.7424400827170242.\n",
      "[I 2023-12-04 16:18:47,445] Trial 58 finished with value: 0.7159546348982602 and parameters: {'rf__criterion': 'gini', 'rf__n_estimators': 716, 'rf__max_depth': 6, 'rf__min_samples_split': 20, 'rf__min_samples_leaf': 3}. Best is trial 55 with value: 0.7424400827170242.\n",
      "[I 2023-12-04 16:18:49,554] Trial 59 finished with value: 0.7086220266659323 and parameters: {'rf__criterion': 'log_loss', 'rf__n_estimators': 830, 'rf__max_depth': 7, 'rf__min_samples_split': 13, 'rf__min_samples_leaf': 13}. Best is trial 55 with value: 0.7424400827170242.\n"
     ]
    },
    {
     "name": "stderr",
     "output_type": "stream",
     "text": [
      "[I 2023-12-04 16:18:51,678] Trial 60 finished with value: 0.7333127905415034 and parameters: {'rf__criterion': 'log_loss', 'rf__n_estimators': 780, 'rf__max_depth': 14, 'rf__min_samples_split': 7, 'rf__min_samples_leaf': 7}. Best is trial 55 with value: 0.7424400827170242.\n",
      "[I 2023-12-04 16:18:54,192] Trial 61 finished with value: 0.7426168461897461 and parameters: {'rf__criterion': 'log_loss', 'rf__n_estimators': 922, 'rf__max_depth': 12, 'rf__min_samples_split': 24, 'rf__min_samples_leaf': 2}. Best is trial 61 with value: 0.7426168461897461.\n",
      "[I 2023-12-04 16:18:56,613] Trial 62 finished with value: 0.7387528320207143 and parameters: {'rf__criterion': 'log_loss', 'rf__n_estimators': 920, 'rf__max_depth': 8, 'rf__min_samples_split': 22, 'rf__min_samples_leaf': 1}. Best is trial 61 with value: 0.7426168461897461.\n",
      "[I 2023-12-04 16:18:59,058] Trial 63 finished with value: 0.7351741826942559 and parameters: {'rf__criterion': 'log_loss', 'rf__n_estimators': 942, 'rf__max_depth': 8, 'rf__min_samples_split': 24, 'rf__min_samples_leaf': 1}. Best is trial 61 with value: 0.7426168461897461.\n",
      "[I 2023-12-04 16:19:01,207] Trial 64 finished with value: 0.6454980316610316 and parameters: {'rf__criterion': 'log_loss', 'rf__n_estimators': 924, 'rf__max_depth': 4, 'rf__min_samples_split': 16, 'rf__min_samples_leaf': 3}. Best is trial 61 with value: 0.7426168461897461.\n",
      "[I 2023-12-04 16:19:03,617] Trial 65 finished with value: 0.7448825010941187 and parameters: {'rf__criterion': 'log_loss', 'rf__n_estimators': 845, 'rf__max_depth': 15, 'rf__min_samples_split': 22, 'rf__min_samples_leaf': 1}. Best is trial 65 with value: 0.7448825010941187.\n",
      "[I 2023-12-04 16:19:05,850] Trial 66 finished with value: 0.7132172185244929 and parameters: {'rf__criterion': 'log_loss', 'rf__n_estimators': 851, 'rf__max_depth': 17, 'rf__min_samples_split': 40, 'rf__min_samples_leaf': 10}. Best is trial 65 with value: 0.7448825010941187.\n",
      "[I 2023-12-04 16:19:08,072] Trial 67 finished with value: 0.7373438194259309 and parameters: {'rf__criterion': 'log_loss', 'rf__n_estimators': 818, 'rf__max_depth': 15, 'rf__min_samples_split': 30, 'rf__min_samples_leaf': 3}. Best is trial 65 with value: 0.7448825010941187.\n",
      "[I 2023-12-04 16:19:10,267] Trial 68 finished with value: 0.7355478350871382 and parameters: {'rf__criterion': 'log_loss', 'rf__n_estimators': 780, 'rf__max_depth': 13, 'rf__min_samples_split': 3, 'rf__min_samples_leaf': 6}. Best is trial 65 with value: 0.7448825010941187.\n",
      "[I 2023-12-04 16:19:11,220] Trial 69 finished with value: 0.6993669612184349 and parameters: {'rf__criterion': 'entropy', 'rf__n_estimators': 351, 'rf__max_depth': 20, 'rf__min_samples_split': 85, 'rf__min_samples_leaf': 9}. Best is trial 65 with value: 0.7448825010941187.\n",
      "[I 2023-12-04 16:19:12,487] Trial 70 finished with value: 0.7402327368550145 and parameters: {'rf__criterion': 'log_loss', 'rf__n_estimators': 431, 'rf__max_depth': 15, 'rf__min_samples_split': 15, 'rf__min_samples_leaf': 3}. Best is trial 65 with value: 0.7448825010941187.\n",
      "[I 2023-12-04 16:19:14,044] Trial 71 finished with value: 0.744461666279527 and parameters: {'rf__criterion': 'log_loss', 'rf__n_estimators': 546, 'rf__max_depth': 18, 'rf__min_samples_split': 17, 'rf__min_samples_leaf': 3}. Best is trial 65 with value: 0.7448825010941187.\n",
      "[I 2023-12-04 16:19:15,240] Trial 72 finished with value: 0.7445479650366315 and parameters: {'rf__criterion': 'log_loss', 'rf__n_estimators': 412, 'rf__max_depth': 15, 'rf__min_samples_split': 16, 'rf__min_samples_leaf': 3}. Best is trial 65 with value: 0.7448825010941187.\n",
      "[I 2023-12-04 16:19:16,063] Trial 73 finished with value: 0.7010566568969563 and parameters: {'rf__criterion': 'log_loss', 'rf__n_estimators': 303, 'rf__max_depth': 18, 'rf__min_samples_split': 106, 'rf__min_samples_leaf': 1}. Best is trial 65 with value: 0.7448825010941187.\n",
      "[I 2023-12-04 16:19:17,325] Trial 74 finished with value: 0.741516633723383 and parameters: {'rf__criterion': 'log_loss', 'rf__n_estimators': 450, 'rf__max_depth': 13, 'rf__min_samples_split': 23, 'rf__min_samples_leaf': 3}. Best is trial 65 with value: 0.7448825010941187.\n",
      "[I 2023-12-04 16:19:18,522] Trial 75 finished with value: 0.7336807690430879 and parameters: {'rf__criterion': 'log_loss', 'rf__n_estimators': 437, 'rf__max_depth': 12, 'rf__min_samples_split': 36, 'rf__min_samples_leaf': 3}. Best is trial 65 with value: 0.7448825010941187.\n",
      "[I 2023-12-04 16:19:19,671] Trial 76 finished with value: 0.7420375036188305 and parameters: {'rf__criterion': 'log_loss', 'rf__n_estimators': 395, 'rf__max_depth': 14, 'rf__min_samples_split': 28, 'rf__min_samples_leaf': 2}. Best is trial 65 with value: 0.7448825010941187.\n",
      "[I 2023-12-04 16:19:20,792] Trial 77 finished with value: 0.7279873975186971 and parameters: {'rf__criterion': 'log_loss', 'rf__n_estimators': 397, 'rf__max_depth': 14, 'rf__min_samples_split': 25, 'rf__min_samples_leaf': 8}. Best is trial 65 with value: 0.7448825010941187.\n",
      "[I 2023-12-04 16:19:22,048] Trial 78 finished with value: 0.7376521114784874 and parameters: {'rf__criterion': 'gini', 'rf__n_estimators': 459, 'rf__max_depth': 11, 'rf__min_samples_split': 18, 'rf__min_samples_leaf': 6}. Best is trial 65 with value: 0.7448825010941187.\n",
      "[I 2023-12-04 16:19:23,392] Trial 79 finished with value: 0.7117456430587744 and parameters: {'rf__criterion': 'log_loss', 'rf__n_estimators': 536, 'rf__max_depth': 6, 'rf__min_samples_split': 28, 'rf__min_samples_leaf': 2}. Best is trial 65 with value: 0.7448825010941187.\n",
      "[I 2023-12-04 16:19:24,312] Trial 80 finished with value: 0.7144572543446391 and parameters: {'rf__criterion': 'log_loss', 'rf__n_estimators': 344, 'rf__max_depth': 13, 'rf__min_samples_split': 44, 'rf__min_samples_leaf': 12}. Best is trial 65 with value: 0.7448825010941187.\n",
      "[I 2023-12-04 16:19:25,484] Trial 81 finished with value: 0.7441301651069757 and parameters: {'rf__criterion': 'log_loss', 'rf__n_estimators': 399, 'rf__max_depth': 16, 'rf__min_samples_split': 21, 'rf__min_samples_leaf': 1}. Best is trial 65 with value: 0.7448825010941187.\n",
      "[I 2023-12-04 16:19:26,640] Trial 82 finished with value: 0.7368223977313361 and parameters: {'rf__criterion': 'log_loss', 'rf__n_estimators': 396, 'rf__max_depth': 16, 'rf__min_samples_split': 23, 'rf__min_samples_leaf': 3}. Best is trial 65 with value: 0.7448825010941187.\n",
      "[I 2023-12-04 16:19:27,412] Trial 83 finished with value: 0.7390089013390878 and parameters: {'rf__criterion': 'log_loss', 'rf__n_estimators': 267, 'rf__max_depth': 11, 'rf__min_samples_split': 18, 'rf__min_samples_leaf': 5}. Best is trial 65 with value: 0.7448825010941187.\n",
      "[I 2023-12-04 16:19:28,831] Trial 84 finished with value: 0.7450222043987828 and parameters: {'rf__criterion': 'log_loss', 'rf__n_estimators': 484, 'rf__max_depth': 16, 'rf__min_samples_split': 13, 'rf__min_samples_leaf': 2}. Best is trial 84 with value: 0.7450222043987828.\n",
      "[I 2023-12-04 16:19:30,278] Trial 85 finished with value: 0.7477531081916228 and parameters: {'rf__criterion': 'log_loss', 'rf__n_estimators': 488, 'rf__max_depth': 15, 'rf__min_samples_split': 13, 'rf__min_samples_leaf': 1}. Best is trial 85 with value: 0.7477531081916228.\n",
      "[I 2023-12-04 16:19:31,798] Trial 86 finished with value: 0.7319381002830991 and parameters: {'rf__criterion': 'log_loss', 'rf__n_estimators': 483, 'rf__max_depth': 16, 'rf__min_samples_split': 6, 'rf__min_samples_leaf': 1}. Best is trial 85 with value: 0.7477531081916228.\n",
      "[I 2023-12-04 16:19:32,318] Trial 87 finished with value: 0.7458722014993705 and parameters: {'rf__criterion': 'log_loss', 'rf__n_estimators': 167, 'rf__max_depth': 18, 'rf__min_samples_split': 13, 'rf__min_samples_leaf': 4}. Best is trial 85 with value: 0.7477531081916228.\n",
      "[I 2023-12-04 16:19:32,896] Trial 88 finished with value: 0.7356721056721055 and parameters: {'rf__criterion': 'entropy', 'rf__n_estimators': 184, 'rf__max_depth': 20, 'rf__min_samples_split': 15, 'rf__min_samples_leaf': 6}. Best is trial 85 with value: 0.7477531081916228.\n",
      "[I 2023-12-04 16:19:33,377] Trial 89 finished with value: 0.735011608623549 and parameters: {'rf__criterion': 'log_loss', 'rf__n_estimators': 159, 'rf__max_depth': 18, 'rf__min_samples_split': 5, 'rf__min_samples_leaf': 8}. Best is trial 85 with value: 0.7477531081916228.\n"
     ]
    },
    {
     "name": "stderr",
     "output_type": "stream",
     "text": [
      "[I 2023-12-04 16:19:34,984] Trial 90 finished with value: 0.7397675784964886 and parameters: {'rf__criterion': 'log_loss', 'rf__n_estimators': 572, 'rf__max_depth': 22, 'rf__min_samples_split': 20, 'rf__min_samples_leaf': 5}. Best is trial 85 with value: 0.7477531081916228.\n",
      "[I 2023-12-04 16:19:36,453] Trial 91 finished with value: 0.7431010545242698 and parameters: {'rf__criterion': 'log_loss', 'rf__n_estimators': 508, 'rf__max_depth': 15, 'rf__min_samples_split': 11, 'rf__min_samples_leaf': 4}. Best is trial 85 with value: 0.7477531081916228.\n",
      "[I 2023-12-04 16:19:38,045] Trial 92 finished with value: 0.7440784873544168 and parameters: {'rf__criterion': 'log_loss', 'rf__n_estimators': 545, 'rf__max_depth': 18, 'rf__min_samples_split': 13, 'rf__min_samples_leaf': 2}. Best is trial 85 with value: 0.7477531081916228.\n",
      "[I 2023-12-04 16:19:39,523] Trial 93 finished with value: 0.745423459427272 and parameters: {'rf__criterion': 'log_loss', 'rf__n_estimators': 501, 'rf__max_depth': 18, 'rf__min_samples_split': 14, 'rf__min_samples_leaf': 2}. Best is trial 85 with value: 0.7477531081916228.\n",
      "[I 2023-12-04 16:19:41,037] Trial 94 finished with value: 0.7494267004075028 and parameters: {'rf__criterion': 'log_loss', 'rf__n_estimators': 510, 'rf__max_depth': 18, 'rf__min_samples_split': 15, 'rf__min_samples_leaf': 1}. Best is trial 94 with value: 0.7494267004075028.\n",
      "[I 2023-12-04 16:19:42,635] Trial 95 finished with value: 0.746524661069491 and parameters: {'rf__criterion': 'log_loss', 'rf__n_estimators': 535, 'rf__max_depth': 18, 'rf__min_samples_split': 14, 'rf__min_samples_leaf': 1}. Best is trial 94 with value: 0.7494267004075028.\n",
      "[I 2023-12-04 16:19:44,052] Trial 96 finished with value: 0.7464828257648716 and parameters: {'rf__criterion': 'log_loss', 'rf__n_estimators': 487, 'rf__max_depth': 17, 'rf__min_samples_split': 19, 'rf__min_samples_leaf': 1}. Best is trial 94 with value: 0.7494267004075028.\n",
      "[I 2023-12-04 16:19:45,235] Trial 97 finished with value: 0.6396154090598535 and parameters: {'rf__criterion': 'gini', 'rf__n_estimators': 479, 'rf__max_depth': 21, 'rf__min_samples_split': 17, 'rf__min_samples_leaf': 42}. Best is trial 94 with value: 0.7494267004075028.\n",
      "[I 2023-12-04 16:19:46,693] Trial 98 finished with value: 0.736148601677018 and parameters: {'rf__criterion': 'log_loss', 'rf__n_estimators': 518, 'rf__max_depth': 17, 'rf__min_samples_split': 13, 'rf__min_samples_leaf': 6}. Best is trial 94 with value: 0.7494267004075028.\n",
      "[I 2023-12-04 16:19:48,169] Trial 99 finished with value: 0.6692575975435656 and parameters: {'rf__criterion': 'log_loss', 'rf__n_estimators': 593, 'rf__max_depth': 19, 'rf__min_samples_split': 6, 'rf__min_samples_leaf': 29}. Best is trial 94 with value: 0.7494267004075028.\n"
     ]
    }
   ],
   "source": [
    "study = optuna.create_study(direction='maximize')\n",
    "study.optimize(objective, n_trials=100)"
   ]
  },
  {
   "cell_type": "code",
   "execution_count": 51,
   "id": "cc931f19",
   "metadata": {},
   "outputs": [
    {
     "name": "stdout",
     "output_type": "stream",
     "text": [
      "Score: 0.7752100840336135\n"
     ]
    }
   ],
   "source": [
    "model.set_params(**study.best_params)\n",
    "model.fit(X_train,y_train)\n",
    "y_pred = model.predict(X_test)\n",
    "print(f'Score: {f1_score(y_test, y_pred)}')"
   ]
  },
  {
   "cell_type": "markdown",
   "id": "ab1dad6d",
   "metadata": {},
   "source": [
    "## Catboost "
   ]
  },
  {
   "cell_type": "markdown",
   "id": "0051fba0",
   "metadata": {},
   "source": [
    "### Base model "
   ]
  },
  {
   "cell_type": "code",
   "execution_count": 49,
   "id": "55f4514a",
   "metadata": {},
   "outputs": [],
   "source": [
    "X_train_small, X_val, y_train_small, y_val = train_test_split(X_train, y_train, test_size=0.33,shuffle=True,random_state=100)"
   ]
  },
  {
   "cell_type": "code",
   "execution_count": 50,
   "id": "a522ef61",
   "metadata": {},
   "outputs": [
    {
     "name": "stdout",
     "output_type": "stream",
     "text": [
      "Score: 0.7657754010695187\n"
     ]
    }
   ],
   "source": [
    "from catboost import CatBoostClassifier\n",
    "\n",
    "clf = CatBoostClassifier()\n",
    "clf.fit(X_train_small, y_train_small, \n",
    "        cat_features=cat_features, \n",
    "        eval_set=(X_val, y_val), \n",
    "        verbose=False\n",
    ")\n",
    "y_pred = clf.predict(X_test)\n",
    "print(f'Score: {f1_score(y_test, y_pred)}')"
   ]
  },
  {
   "cell_type": "markdown",
   "id": "78adf758",
   "metadata": {},
   "source": [
    "# Neural-FCA"
   ]
  },
  {
   "cell_type": "code",
   "execution_count": null,
   "id": "d37dc3ae",
   "metadata": {},
   "outputs": [],
   "source": [
    "import torch\n",
    "from fcapy.context import FormalContext\n",
    "from fcapy.lattice import ConceptLattice\n",
    "\n",
    "plt.rcParams['figure.facecolor'] = (1,1,1,1)"
   ]
  },
  {
   "cell_type": "code",
   "execution_count": null,
   "id": "bf879af3",
   "metadata": {},
   "outputs": [],
   "source": []
  }
 ],
 "metadata": {
  "kernelspec": {
   "display_name": "Python 3 (ipykernel)",
   "language": "python",
   "name": "python3"
  },
  "language_info": {
   "codemirror_mode": {
    "name": "ipython",
    "version": 3
   },
   "file_extension": ".py",
   "mimetype": "text/x-python",
   "name": "python",
   "nbconvert_exporter": "python",
   "pygments_lexer": "ipython3",
   "version": "3.10.11"
  }
 },
 "nbformat": 4,
 "nbformat_minor": 5
}
